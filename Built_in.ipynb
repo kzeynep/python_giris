{
  "nbformat": 4,
  "nbformat_minor": 0,
  "metadata": {
    "colab": {
      "provenance": [],
      "authorship_tag": "ABX9TyODzEDH7NMzleCyMUypGqzo",
      "include_colab_link": true
    },
    "kernelspec": {
      "name": "python3",
      "display_name": "Python 3"
    },
    "language_info": {
      "name": "python"
    }
  },
  "cells": [
    {
      "cell_type": "markdown",
      "metadata": {
        "id": "view-in-github",
        "colab_type": "text"
      },
      "source": [
        "<a href=\"https://colab.research.google.com/github/kzeynep/python_giris/blob/main/Built_in.ipynb\" target=\"_parent\"><img src=\"https://colab.research.google.com/assets/colab-badge.svg\" alt=\"Open In Colab\"/></a>"
      ]
    },
    {
      "cell_type": "code",
      "source": [
        "list1 = list(range(10))\n",
        "kare = []\n",
        "for i in list1 :\n",
        "  t = i*i \n",
        "  kare.append(t)"
      ],
      "metadata": {
        "id": "_UC96UeqQ-D_"
      },
      "execution_count": 1,
      "outputs": []
    },
    {
      "cell_type": "code",
      "source": [
        "print(kare)\n",
        "print(list1)"
      ],
      "metadata": {
        "colab": {
          "base_uri": "https://localhost:8080/"
        },
        "id": "-O6pL7OyRQ2G",
        "outputId": "d3c38fcd-b1de-4d56-f23c-b81e957c788d"
      },
      "execution_count": 2,
      "outputs": [
        {
          "output_type": "stream",
          "name": "stdout",
          "text": [
            "[0, 1, 4, 9, 16, 25, 36, 49, 64, 81]\n",
            "[0, 1, 2, 3, 4, 5, 6, 7, 8, 9]\n"
          ]
        }
      ]
    },
    {
      "cell_type": "code",
      "execution_count": 3,
      "metadata": {
        "id": "tPpnCEkiKPbx"
      },
      "outputs": [],
      "source": [
        "#map function : bize verilen bir dizini elemanlarını belirlediğimiz bir fonksiyonu bu elemanlar üzerinde uygulamamızı sağlar.Map fonksiyonu iki argüman alır birinci fonksiyunumuz ikinci argümanda bir liste tuple ya da başka bir iterable nesne olmalıdır.\n",
        "list2 = list(range(10))\n",
        "def kare (x) :\n",
        "  return x*x\n",
        "kare_list = list(map(kare , list2))"
      ]
    },
    {
      "cell_type": "code",
      "source": [
        "print(kare_list)"
      ],
      "metadata": {
        "colab": {
          "base_uri": "https://localhost:8080/"
        },
        "id": "qQ_-nIDSRlr9",
        "outputId": "f7e24e17-2d93-464c-d7ef-fc6905b5e273"
      },
      "execution_count": 5,
      "outputs": [
        {
          "output_type": "stream",
          "name": "stdout",
          "text": [
            "[0, 1, 4, 9, 16, 25, 36, 49, 64, 81]\n"
          ]
        }
      ]
    },
    {
      "cell_type": "code",
      "source": [
        "list(map(lambda x : x*x ,list2))"
      ],
      "metadata": {
        "colab": {
          "base_uri": "https://localhost:8080/"
        },
        "id": "lDUyY4blRn4d",
        "outputId": "588b70fa-8e43-4952-fc7d-a2e19c204dc7"
      },
      "execution_count": 6,
      "outputs": [
        {
          "output_type": "execute_result",
          "data": {
            "text/plain": [
              "[0, 1, 4, 9, 16, 25, 36, 49, 64, 81]"
            ]
          },
          "metadata": {},
          "execution_count": 6
        }
      ]
    },
    {
      "cell_type": "code",
      "source": [
        "faktöriyel = 1\n",
        "for i in range(1,6):\n",
        "  faktöriyel *= i\n",
        "print(faktöriyel)"
      ],
      "metadata": {
        "colab": {
          "base_uri": "https://localhost:8080/"
        },
        "id": "MMAiVL08TDvH",
        "outputId": "81c771d7-e14c-472e-eb8b-7ab9e5c8e07a"
      },
      "execution_count": 7,
      "outputs": [
        {
          "output_type": "stream",
          "name": "stdout",
          "text": [
            "120\n"
          ]
        }
      ]
    },
    {
      "cell_type": "code",
      "source": [
        "from functools import reduce "
      ],
      "metadata": {
        "id": "qYbJ-lFcTTDF"
      },
      "execution_count": 8,
      "outputs": []
    },
    {
      "cell_type": "code",
      "source": [
        "#reduce function : map fonksiyonu gibi ondan ayıran özelliği farklı bir liste döndermez bunu yerine size listenin elemanlarına uygulamak istediğiniz fonksiyonu kümülatif oalrak uygulayıp bize tek biir sonuç döndürür.\n",
        "print(reduce(lambda x,y : x*y , range(1,10)))"
      ],
      "metadata": {
        "colab": {
          "base_uri": "https://localhost:8080/"
        },
        "id": "LsmOMkqVRx-2",
        "outputId": "915ce591-9730-4f42-9190-d7bad5441603"
      },
      "execution_count": 9,
      "outputs": [
        {
          "output_type": "stream",
          "name": "stdout",
          "text": [
            "362880\n"
          ]
        }
      ]
    },
    {
      "cell_type": "code",
      "source": [
        "list3 = [16,4,2,1]\n",
        "bölme = reduce(lambda x,y : x/y , list3)"
      ],
      "metadata": {
        "id": "f6hwhn46Te0r"
      },
      "execution_count": 10,
      "outputs": []
    },
    {
      "cell_type": "code",
      "source": [
        "print(bölme)"
      ],
      "metadata": {
        "colab": {
          "base_uri": "https://localhost:8080/"
        },
        "id": "nncIicXXT3Cr",
        "outputId": "4710eb43-0dd6-4e9e-e2fe-11ffde6ce51c"
      },
      "execution_count": 11,
      "outputs": [
        {
          "output_type": "stream",
          "name": "stdout",
          "text": [
            "2.0\n"
          ]
        }
      ]
    },
    {
      "cell_type": "code",
      "source": [
        "#filter function : bize elimizdeki iterable nesneleri ihtiyacımız dahilinde filtrelemeyi sağlar.\n",
        "list4 = [100,8,11,14,6,9,200]\n",
        "cift_sayilar = list(filter(lambda x : x%2==0,list4))\n"
      ],
      "metadata": {
        "id": "o9IAzjN_T5B9"
      },
      "execution_count": 12,
      "outputs": []
    },
    {
      "cell_type": "code",
      "source": [
        "print(cift_sayilar)"
      ],
      "metadata": {
        "colab": {
          "base_uri": "https://localhost:8080/"
        },
        "id": "zK0IMt0eU1UU",
        "outputId": "98926b21-89f8-43fc-c386-5dc39ff13b54"
      },
      "execution_count": 13,
      "outputs": [
        {
          "output_type": "stream",
          "name": "stdout",
          "text": [
            "[100, 8, 14, 6, 200]\n"
          ]
        }
      ]
    },
    {
      "cell_type": "code",
      "source": [
        "kare = map (lambda x : x*x , range(15))\n",
        "list5=list(filter(lambda x : x>10 and x<150 ,kare))\n",
        "print(list5)"
      ],
      "metadata": {
        "colab": {
          "base_uri": "https://localhost:8080/"
        },
        "id": "63nuoKFPU3wB",
        "outputId": "7da58777-0752-46d5-c9d4-b07240e3e710"
      },
      "execution_count": 14,
      "outputs": [
        {
          "output_type": "stream",
          "name": "stdout",
          "text": [
            "[16, 25, 36, 49, 64, 81, 100, 121, 144]\n"
          ]
        }
      ]
    },
    {
      "cell_type": "code",
      "source": [
        "def is_prime(n):\n",
        "    if n <= 1:\n",
        "        return False\n",
        "    elif n <= 3:\n",
        "        return True\n",
        "    elif n % 2 == 0 or n % 3 == 0:\n",
        "        return False\n",
        "    i = 5\n",
        "    while i * i <= n:\n",
        "        if n % i == 0 or n % (i + 2) == 0:\n",
        "            return False\n",
        "        i += 6\n",
        "    return True"
      ],
      "metadata": {
        "id": "BTufk8VbVbk4"
      },
      "execution_count": 20,
      "outputs": []
    },
    {
      "cell_type": "code",
      "source": [
        "is_prime(11)"
      ],
      "metadata": {
        "colab": {
          "base_uri": "https://localhost:8080/"
        },
        "id": "mdv0FCSvV9LR",
        "outputId": "824871c1-c1f8-4b94-c7cb-3c6f0a18af78"
      },
      "execution_count": 23,
      "outputs": [
        {
          "output_type": "execute_result",
          "data": {
            "text/plain": [
              "True"
            ]
          },
          "metadata": {},
          "execution_count": 23
        }
      ]
    },
    {
      "cell_type": "code",
      "source": [
        "is_prime(27)"
      ],
      "metadata": {
        "colab": {
          "base_uri": "https://localhost:8080/"
        },
        "id": "9ymJdw-LV9-7",
        "outputId": "adc1a323-31d4-44f2-d443-ef29eb780f83"
      },
      "execution_count": 24,
      "outputs": [
        {
          "output_type": "execute_result",
          "data": {
            "text/plain": [
              "False"
            ]
          },
          "metadata": {},
          "execution_count": 24
        }
      ]
    },
    {
      "cell_type": "code",
      "source": [
        "meyveler=['elma','armut','muz','çilek','kiraz']\n",
        "index=0\n",
        "index_meyveler =[]\n",
        "for i in meyveler :\n",
        "  index_meyveler.append((index , i))\n",
        "  index +=1\n",
        "  print(index_meyveler)"
      ],
      "metadata": {
        "colab": {
          "base_uri": "https://localhost:8080/"
        },
        "id": "2EJICWScXDo2",
        "outputId": "6885326f-ac88-4fd7-b0e7-9614b847d50f"
      },
      "execution_count": 25,
      "outputs": [
        {
          "output_type": "stream",
          "name": "stdout",
          "text": [
            "[(0, 'elma')]\n",
            "[(0, 'elma'), (1, 'armut')]\n",
            "[(0, 'elma'), (1, 'armut'), (2, 'muz')]\n",
            "[(0, 'elma'), (1, 'armut'), (2, 'muz'), (3, 'çilek')]\n",
            "[(0, 'elma'), (1, 'armut'), (2, 'muz'), (3, 'çilek'), (4, 'kiraz')]\n"
          ]
        }
      ]
    },
    {
      "cell_type": "code",
      "source": [
        "#Enumerate function : iterable nesnemize index numaraları eklememize olanak veren bir fonksiyondur.\n",
        "enumerate(meyveler)"
      ],
      "metadata": {
        "colab": {
          "base_uri": "https://localhost:8080/"
        },
        "id": "AgcAsDTYV_P2",
        "outputId": "e3aabd8e-9d1e-4c4e-c7f8-1078ecbb219c"
      },
      "execution_count": 26,
      "outputs": [
        {
          "output_type": "execute_result",
          "data": {
            "text/plain": [
              "<enumerate at 0x7fdf634674c0>"
            ]
          },
          "metadata": {},
          "execution_count": 26
        }
      ]
    },
    {
      "cell_type": "code",
      "source": [
        "list(enumerate(meyveler))"
      ],
      "metadata": {
        "colab": {
          "base_uri": "https://localhost:8080/"
        },
        "id": "LcC3NnTEXqxz",
        "outputId": "596e25f2-4d53-4056-f467-5f6a4b2d9280"
      },
      "execution_count": 27,
      "outputs": [
        {
          "output_type": "execute_result",
          "data": {
            "text/plain": [
              "[(0, 'elma'), (1, 'armut'), (2, 'muz'), (3, 'çilek'), (4, 'kiraz')]"
            ]
          },
          "metadata": {},
          "execution_count": 27
        }
      ]
    },
    {
      "cell_type": "code",
      "source": [
        "#zip function : elimizdeki iterable nesneleri birleştirerek yeni bir tuple listesi oluşturmamızı sağlar\n",
        "list1 = [1,2,3,4]\n",
        "list2=[5,6,7,8]\n",
        "zip(list1,list2)"
      ],
      "metadata": {
        "colab": {
          "base_uri": "https://localhost:8080/"
        },
        "id": "vvfDAf-1XvwU",
        "outputId": "05c9f953-d49c-46d2-b123-6158cdfa18f3"
      },
      "execution_count": 28,
      "outputs": [
        {
          "output_type": "execute_result",
          "data": {
            "text/plain": [
              "<zip at 0x7fdf63457980>"
            ]
          },
          "metadata": {},
          "execution_count": 28
        }
      ]
    },
    {
      "cell_type": "code",
      "source": [
        "list(zip(list1,list2))"
      ],
      "metadata": {
        "colab": {
          "base_uri": "https://localhost:8080/"
        },
        "id": "blgdmOMcYpnF",
        "outputId": "cbbc4d60-9b6b-4943-c2e7-ad7a8aaf024f"
      },
      "execution_count": 29,
      "outputs": [
        {
          "output_type": "execute_result",
          "data": {
            "text/plain": [
              "[(1, 5), (2, 6), (3, 7), (4, 8)]"
            ]
          },
          "metadata": {},
          "execution_count": 29
        }
      ]
    },
    {
      "cell_type": "code",
      "source": [],
      "metadata": {
        "id": "csocIf77YulF"
      },
      "execution_count": null,
      "outputs": []
    }
  ]
}