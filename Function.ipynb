{
  "nbformat": 4,
  "nbformat_minor": 0,
  "metadata": {
    "colab": {
      "provenance": [],
      "authorship_tag": "ABX9TyNwKMFZHK8lz+RCkKn8cl4D",
      "include_colab_link": true
    },
    "kernelspec": {
      "name": "python3",
      "display_name": "Python 3"
    },
    "language_info": {
      "name": "python"
    }
  },
  "cells": [
    {
      "cell_type": "markdown",
      "metadata": {
        "id": "view-in-github",
        "colab_type": "text"
      },
      "source": [
        "<a href=\"https://colab.research.google.com/github/kzeynep/python_giris/blob/main/Function.ipynb\" target=\"_parent\"><img src=\"https://colab.research.google.com/assets/colab-badge.svg\" alt=\"Open In Colab\"/></a>"
      ]
    },
    {
      "cell_type": "code",
      "execution_count": 1,
      "metadata": {
        "id": "RnVRzW1zS8Ad"
      },
      "outputs": [],
      "source": [
        "def selamlama():\n",
        "  print(\"Merhaba\")\n",
        "  print(\"Nasilsiniz...\")\n",
        "  "
      ]
    },
    {
      "cell_type": "code",
      "source": [
        "selamlama()"
      ],
      "metadata": {
        "colab": {
          "base_uri": "https://localhost:8080/"
        },
        "id": "E0qznjDcVdXR",
        "outputId": "696d3392-3194-4766-abaa-fdde0224e627"
      },
      "execution_count": 2,
      "outputs": [
        {
          "output_type": "stream",
          "name": "stdout",
          "text": [
            "Merhaba\n",
            "Nasilsiniz...\n"
          ]
        }
      ]
    },
    {
      "cell_type": "code",
      "source": [
        "type(selamlama)"
      ],
      "metadata": {
        "colab": {
          "base_uri": "https://localhost:8080/"
        },
        "id": "qtSNYNE-Veig",
        "outputId": "3f2b16e1-fb39-45bc-c947-5310bb751051"
      },
      "execution_count": 3,
      "outputs": [
        {
          "output_type": "execute_result",
          "data": {
            "text/plain": [
              "function"
            ]
          },
          "metadata": {},
          "execution_count": 3
        }
      ]
    },
    {
      "cell_type": "code",
      "source": [
        "def birinci():\n",
        "  print(\"Ben ikinci fonksiyonum\")\n",
        "def ikinci():\n",
        "  print(\"Ben ikinci fonksiyonum\")\n",
        "  "
      ],
      "metadata": {
        "id": "EN-XpIZ1VlYL"
      },
      "execution_count": 4,
      "outputs": []
    },
    {
      "cell_type": "code",
      "source": [
        "sayi =int(input(\"Lütfen bir sayi giriniz ... :\"))\n",
        "if sayi > 0 :\n",
        "  birinci()\n",
        "else :\n",
        "  ikinci()"
      ],
      "metadata": {
        "colab": {
          "base_uri": "https://localhost:8080/"
        },
        "id": "Zddt46sbWFiK",
        "outputId": "f4ec349b-a43e-42a6-edd6-2eb879b7557c"
      },
      "execution_count": 6,
      "outputs": [
        {
          "output_type": "stream",
          "name": "stdout",
          "text": [
            "Lütfen bir sayi giriniz ... :10\n",
            "Ben ikinci fonksiyonum\n"
          ]
        }
      ]
    },
    {
      "cell_type": "code",
      "source": [
        "def toplama (a,b,c):\n",
        "  toplam = a+b+c\n",
        "  print(\"Toplam : \",toplam)"
      ],
      "metadata": {
        "id": "fWHvedJSWO_x"
      },
      "execution_count": 7,
      "outputs": []
    },
    {
      "cell_type": "code",
      "source": [
        "toplama(4,5,9)"
      ],
      "metadata": {
        "colab": {
          "base_uri": "https://localhost:8080/"
        },
        "id": "9ffEBy1ZYhvj",
        "outputId": "9f55bedc-018f-48e9-8cd4-b88462a6d0a6"
      },
      "execution_count": 9,
      "outputs": [
        {
          "output_type": "stream",
          "name": "stdout",
          "text": [
            "Toplam :  18\n"
          ]
        }
      ]
    },
    {
      "cell_type": "code",
      "source": [
        "def faktöriyel(sayı):\n",
        "  faktöriyel = 1\n",
        "  if (sayı == 0 or sayı == 1):\n",
        "    print(\"Faktöriyel değer : 1\")\n",
        "  else:\n",
        "    while sayı > 1 :\n",
        "      faktöriyel *= sayı \n",
        "      sayı -= 1 \n",
        "    print(\"Sayının faktöriyel : \",faktöriyel)\n",
        "  \n"
      ],
      "metadata": {
        "id": "l80EmfFgYktF"
      },
      "execution_count": 13,
      "outputs": []
    },
    {
      "cell_type": "code",
      "source": [
        "faktöriyel(0)"
      ],
      "metadata": {
        "colab": {
          "base_uri": "https://localhost:8080/"
        },
        "id": "jn8THOjXZjmT",
        "outputId": "ef4887b8-b926-4061-8d8a-467c4e64fab2"
      },
      "execution_count": 11,
      "outputs": [
        {
          "output_type": "stream",
          "name": "stdout",
          "text": [
            "Faktöriyel değer : 1\n"
          ]
        }
      ]
    },
    {
      "cell_type": "code",
      "source": [
        "faktöriyel(6)"
      ],
      "metadata": {
        "colab": {
          "base_uri": "https://localhost:8080/"
        },
        "id": "cAdhx5bBZm3m",
        "outputId": "45266ae1-1543-4a61-84e9-1a72fed5e927"
      },
      "execution_count": 14,
      "outputs": [
        {
          "output_type": "stream",
          "name": "stdout",
          "text": [
            "Sayının faktöriyel :  720\n"
          ]
        }
      ]
    },
    {
      "cell_type": "code",
      "source": [
        "#return işlemine kullanmadan yapılan işlem\n",
        "def kare(x):\n",
        "  a = x*x"
      ],
      "metadata": {
        "id": "p_so9bKuZqOg"
      },
      "execution_count": 21,
      "outputs": []
    },
    {
      "cell_type": "code",
      "source": [
        "kare(5)"
      ],
      "metadata": {
        "id": "nKcjugYMaRQk"
      },
      "execution_count": 16,
      "outputs": []
    },
    {
      "cell_type": "code",
      "source": [
        "type(kare(5))"
      ],
      "metadata": {
        "colab": {
          "base_uri": "https://localhost:8080/"
        },
        "id": "t4TB16qgaS8s",
        "outputId": "ea50cb09-6695-4b8b-fb52-dd1ea7dd2cc3"
      },
      "execution_count": 17,
      "outputs": [
        {
          "output_type": "execute_result",
          "data": {
            "text/plain": [
              "NoneType"
            ]
          },
          "metadata": {},
          "execution_count": 17
        }
      ]
    },
    {
      "cell_type": "code",
      "source": [
        "#return işlemi yapıldığında işlem ve returndan sonra yazılan kodlar yeni satıra geeçer \n",
        "def kare(x):\n",
        "  a = x*x\n",
        "  return a\n",
        "  print(\"Karenin alanını hesaplıyoruz\")"
      ],
      "metadata": {
        "id": "0hyew9c5aVP4"
      },
      "execution_count": 24,
      "outputs": []
    },
    {
      "cell_type": "code",
      "source": [
        "kare(5)"
      ],
      "metadata": {
        "colab": {
          "base_uri": "https://localhost:8080/"
        },
        "id": "ENWXVTTQaY1e",
        "outputId": "d745b15b-2fa6-4945-b1c6-1907d2c409e1"
      },
      "execution_count": 25,
      "outputs": [
        {
          "output_type": "execute_result",
          "data": {
            "text/plain": [
              "25"
            ]
          },
          "metadata": {},
          "execution_count": 25
        }
      ]
    },
    {
      "cell_type": "code",
      "source": [
        "type(kare(5))"
      ],
      "metadata": {
        "colab": {
          "base_uri": "https://localhost:8080/"
        },
        "id": "7Cvto9IDaar2",
        "outputId": "d549cda8-6f55-4799-cc39-d7cf851f8ed3"
      },
      "execution_count": 26,
      "outputs": [
        {
          "output_type": "execute_result",
          "data": {
            "text/plain": [
              "int"
            ]
          },
          "metadata": {},
          "execution_count": 26
        }
      ]
    },
    {
      "cell_type": "code",
      "source": [
        "def kare(x):\n",
        "  a = x*x\n",
        "  print(\"Karenin alanını hesaplıyoruz\")\n",
        "  return a\n"
      ],
      "metadata": {
        "id": "HeQincXsacZ3"
      },
      "execution_count": 30,
      "outputs": []
    },
    {
      "cell_type": "code",
      "source": [
        "kare(6)"
      ],
      "metadata": {
        "colab": {
          "base_uri": "https://localhost:8080/"
        },
        "id": "_ii3G7HQbQWV",
        "outputId": "817ee6e1-b8ec-4bc9-ce37-d34418c5136d"
      },
      "execution_count": 31,
      "outputs": [
        {
          "output_type": "stream",
          "name": "stdout",
          "text": [
            "Karenin alanını hesaplıyoruz\n"
          ]
        },
        {
          "output_type": "execute_result",
          "data": {
            "text/plain": [
              "36"
            ]
          },
          "metadata": {},
          "execution_count": 31
        }
      ]
    },
    {
      "cell_type": "code",
      "source": [
        "isim ='Zeynep'    #global değişken\n",
        "def selamlama():\n",
        "  isim ='Firuze'  #locak değişken\n",
        "  print(isim)"
      ],
      "metadata": {
        "id": "LnnpLUS_bRM-"
      },
      "execution_count": 32,
      "outputs": []
    },
    {
      "cell_type": "code",
      "source": [
        "selamlama()\n",
        "print(isim)"
      ],
      "metadata": {
        "colab": {
          "base_uri": "https://localhost:8080/"
        },
        "id": "kJ-wLqCbdMwV",
        "outputId": "77df592d-372e-46bc-e835-400a8e77f8a9"
      },
      "execution_count": 33,
      "outputs": [
        {
          "output_type": "stream",
          "name": "stdout",
          "text": [
            "Firuze\n",
            "Zeynep\n"
          ]
        }
      ]
    },
    {
      "cell_type": "code",
      "source": [
        "def double(x):\n",
        "  return x*2"
      ],
      "metadata": {
        "id": "Aeb0R3bKdRQK"
      },
      "execution_count": 34,
      "outputs": []
    },
    {
      "cell_type": "code",
      "source": [
        "double(4)"
      ],
      "metadata": {
        "colab": {
          "base_uri": "https://localhost:8080/"
        },
        "id": "88ImtbsLdpE3",
        "outputId": "8105cddd-bfa6-49a4-f2f9-90a5af6461d0"
      },
      "execution_count": 35,
      "outputs": [
        {
          "output_type": "execute_result",
          "data": {
            "text/plain": [
              "8"
            ]
          },
          "metadata": {},
          "execution_count": 35
        }
      ]
    },
    {
      "cell_type": "code",
      "source": [
        "doubl1 = lambda x : x*2"
      ],
      "metadata": {
        "id": "ydOvs_fXdq3P"
      },
      "execution_count": 36,
      "outputs": []
    },
    {
      "cell_type": "code",
      "source": [
        "doubl1(4)"
      ],
      "metadata": {
        "colab": {
          "base_uri": "https://localhost:8080/"
        },
        "id": "eptTHuZGdwyW",
        "outputId": "710a80d9-d8c2-4725-946e-301f511e868c"
      },
      "execution_count": 38,
      "outputs": [
        {
          "output_type": "execute_result",
          "data": {
            "text/plain": [
              "8"
            ]
          },
          "metadata": {},
          "execution_count": 38
        }
      ]
    },
    {
      "cell_type": "code",
      "source": [],
      "metadata": {
        "id": "h9QcXVZHdyqY"
      },
      "execution_count": null,
      "outputs": []
    }
  ]
}