{
  "nbformat": 4,
  "nbformat_minor": 0,
  "metadata": {
    "colab": {
      "provenance": [],
      "mount_file_id": "15uiZ3oyE4edSmUzKzOEOt8p31JbLaBOY",
      "authorship_tag": "ABX9TyNepwScjWuQTxrxqy28y8xX",
      "include_colab_link": true
    },
    "kernelspec": {
      "name": "python3",
      "display_name": "Python 3"
    },
    "language_info": {
      "name": "python"
    }
  },
  "cells": [
    {
      "cell_type": "markdown",
      "metadata": {
        "id": "view-in-github",
        "colab_type": "text"
      },
      "source": [
        "<a href=\"https://colab.research.google.com/github/kzeynep/python_giris/blob/main/file_reading_and_writing.ipynb\" target=\"_parent\"><img src=\"https://colab.research.google.com/assets/colab-badge.svg\" alt=\"Open In Colab\"/></a>"
      ]
    },
    {
      "cell_type": "code",
      "execution_count": 1,
      "metadata": {
        "id": "MajTafMGwM_v"
      },
      "outputs": [],
      "source": [
        "#DOSYA OKUMA , YAZMA VE OLUŞTURMA\n",
        "#open() fonksiyonu bize istediğmiz bir dosyayı açmamızısağlar kullanım şekil open(dosyaadi,okuma modu)\n",
        "# w mode-Python dosyalar üzerinde yazma modudur w modu ile ilgili sorun eğer bu modda dosyamızı açarsak aynı isimli dosyaların üzerinde yazma işlemi \n",
        "#a mode- a modu appending yani ekleme modudur var olan dosyamıza yeni veri eklememizi sağlar eğer dosya daha öncede oluşmamışsa bize doysamızı oluşturur.\n",
        "#r mode- r modu dosyamızı okumak için kullandığımız bir moddur.\n",
        "#r+mode-r+ özel bir moddur hem okuma hem de dosya üzerinde yazma işlemi yapmamızı sağlar\n",
        "dosya = open(\"dosya.txt\",\"w\")"
      ]
    },
    {
      "cell_type": "code",
      "source": [
        "dosya.write(\"merhaba Python\")\n",
        "dosya.close()"
      ],
      "metadata": {
        "id": "TzPYSykb0TWu"
      },
      "execution_count": 2,
      "outputs": []
    },
    {
      "cell_type": "code",
      "source": [
        "#Encoding Tanımlama (bütün dillere uygun yazılımı sağlar. hata almayız)\n",
        "dosya1 = open(\"dosya1.txt\", \"w\", encoding=\"utf-8\")\n",
        "dosya1.write(\"Ben bugün ki dersim de Python da dosya açma işlemini öğrendim\")\n",
        "dosya1.close()\n"
      ],
      "metadata": {
        "id": "3BMINYAC0pd1"
      },
      "execution_count": 8,
      "outputs": []
    },
    {
      "cell_type": "code",
      "source": [
        "#\\n (alt satıra geçmeyi sağlar.)\n",
        "dosya = open(\"dosya.txt\",\"w\")\n",
        "dosya.write(\"Benim adim Zeynep \\n\")\n",
        "dosya.write(\"Ben Python öğreniyorum \\n\")\n",
        "dosya.write(\"Bugün ki konumuz dosya açma ve yazma işlemleri \\n\")\n",
        "dosya.close()"
      ],
      "metadata": {
        "id": "x72xcnTbr8L7"
      },
      "execution_count": 11,
      "outputs": []
    },
    {
      "cell_type": "code",
      "source": [
        "#olmayan  bir dosyayı okumak istediğimiz de hatayı önlemek için bu yolu uygulayabiliriz.\n",
        "try : \n",
        "  dosya = open(\"dosya3.txt\",\"r\")\n",
        "  dosya.read()\n",
        "  dosya.close()\n",
        "except FileNotFoundError : \n",
        "  print(\"Böyle bir dosya mecvur değil..\")"
      ],
      "metadata": {
        "colab": {
          "base_uri": "https://localhost:8080/"
        },
        "id": "S85xA_85t-6H",
        "outputId": "1148acff-3e0b-4de0-9f3e-52fd511b3383"
      },
      "execution_count": 12,
      "outputs": [
        {
          "output_type": "stream",
          "name": "stdout",
          "text": [
            "Böyle bir dosya mecvur değil..\n"
          ]
        }
      ]
    },
    {
      "cell_type": "code",
      "source": [
        "#dosya okuma işlemini read komutu ile yaparız.\n",
        "dosya = open(\"dosya.txt\",\"r\",encoding=\"utf-8\")\n",
        "içerik=dosya.read()\n",
        "print(içerik)\n",
        "dosya.close()"
      ],
      "metadata": {
        "colab": {
          "base_uri": "https://localhost:8080/"
        },
        "id": "4aq4-R9quq39",
        "outputId": "bdb360c7-a3e9-4a1a-fbc3-3f37a973e05f"
      },
      "execution_count": 14,
      "outputs": [
        {
          "output_type": "stream",
          "name": "stdout",
          "text": [
            "Benim adim Zeynep \n",
            "Ben Python öğreniyorum \n",
            "Bugün ki konumuz dosya açma ve yazma işlemleri \n",
            "\n"
          ]
        }
      ]
    },
    {
      "cell_type": "code",
      "source": [
        "#readline() dosyamızın içindeki ilk satırı bastırmada kullanılır.\n",
        "dosya = open(\"dosya.txt\",\"r\",encoding=\"utf-8\")\n",
        "içerik=dosya.readline()\n",
        "print(içerik)\n",
        "dosya.close()"
      ],
      "metadata": {
        "colab": {
          "base_uri": "https://localhost:8080/"
        },
        "id": "QPvrFQWvvrtc",
        "outputId": "8d3812cd-517c-4e9d-8d86-5b58b405b104"
      },
      "execution_count": 15,
      "outputs": [
        {
          "output_type": "stream",
          "name": "stdout",
          "text": [
            "Benim adim Zeynep \n",
            "\n"
          ]
        }
      ]
    },
    {
      "cell_type": "code",
      "source": [
        "#readlines() fonksiyonu bize dosya içindeki verileri bir liste olaraak dönderir.\n",
        "dosya = open(\"dosya.txt\",\"r\",encoding=\"utf-8\")\n",
        "içerik=dosya.readlines()\n",
        "print(içerik)\n",
        "dosya.close()"
      ],
      "metadata": {
        "colab": {
          "base_uri": "https://localhost:8080/"
        },
        "id": "rMDrsU5Kv60s",
        "outputId": "bdab94c9-55d2-4560-dc8c-44af0b162510"
      },
      "execution_count": 16,
      "outputs": [
        {
          "output_type": "stream",
          "name": "stdout",
          "text": [
            "['Benim adim Zeynep \\n', 'Ben Python öğreniyorum \\n', 'Bugün ki konumuz dosya açma ve yazma işlemleri \\n']\n"
          ]
        }
      ]
    },
    {
      "cell_type": "code",
      "source": [
        "#with open fonksiyonu : en kolay yöntemdir okuma ve yazma için kullanılır.\n",
        "with open(\"dosya.txt\",\"r\",encoding=\"utf-8\") as dosya : \n",
        "  print(dosya.read())"
      ],
      "metadata": {
        "colab": {
          "base_uri": "https://localhost:8080/"
        },
        "id": "GXpeHi5kwcrT",
        "outputId": "bebcc664-b36f-40ad-dff2-884eb37b78cd"
      },
      "execution_count": 17,
      "outputs": [
        {
          "output_type": "stream",
          "name": "stdout",
          "text": [
            "Benim adim Zeynep \n",
            "Ben Python öğreniyorum \n",
            "Bugün ki konumuz dosya açma ve yazma işlemleri \n",
            "\n"
          ]
        }
      ]
    },
    {
      "cell_type": "code",
      "source": [
        "#the split() : string verimizi istediğimiz ayıraca göre parçalamamızı sağlar.\n",
        "string=\"Merhaba Python Seni Çok Seviyorum\"\n",
        "print(string.split())"
      ],
      "metadata": {
        "colab": {
          "base_uri": "https://localhost:8080/"
        },
        "id": "19aX996PxHG_",
        "outputId": "de38ea61-7dfe-49af-c848-06f238e8b4d3"
      },
      "execution_count": 18,
      "outputs": [
        {
          "output_type": "stream",
          "name": "stdout",
          "text": [
            "['Merhaba', 'Python', 'Seni', 'Çok', 'Seviyorum']\n"
          ]
        }
      ]
    },
    {
      "cell_type": "code",
      "source": [
        "#json : dosyalarını okumak bir json verisini python objesi haline dönüştürmek demektir bu yapamk için iki tane fonksiyonumuz var birinci fonksiyon json.loads()\n",
        "#json.loads() : fonksiyonu string halindeki json objesini okuyarak bize bir python objesine dönüştürür buradaki 's' string anlamındadır.\n",
        "#json.load() : fonksiyonu ise bir json dosyasını okumamızı sağlyarak bize bir python objesine dönüştürür.\n",
        "import json\n",
        " "
      ],
      "metadata": {
        "id": "-cQZTcidxi0e"
      },
      "execution_count": 19,
      "outputs": []
    },
    {
      "cell_type": "code",
      "source": [
        "import json\n",
        "\n",
        "# Verileri içeren bir sözlük oluşturun\n",
        "data = {\n",
        "    \"name\": \"John\",\n",
        "    \"age\": 30,\n",
        "    \"city\": \"New York\"\n",
        "}\n",
        "\n",
        "# Sözlüğü JSON formatına dönüştürün\n",
        "json_data = json.dumps(data)\n",
        "\n",
        "# JSON verilerini bir dosyaya yazın\n",
        "with open(\"veriler.json\", \"w\") as dosya:\n",
        "    dosya.write(json_data)\n"
      ],
      "metadata": {
        "id": "sr16JsPF5OQK"
      },
      "execution_count": 20,
      "outputs": []
    },
    {
      "cell_type": "code",
      "source": [
        "{\"name\": \"John\", \"age\": 30, \"city\": \"New York\"}\n"
      ],
      "metadata": {
        "colab": {
          "base_uri": "https://localhost:8080/"
        },
        "id": "zZgX4n6H5RMS",
        "outputId": "8d4a6575-4247-4c75-bfdc-ab2c553c94ca"
      },
      "execution_count": 21,
      "outputs": [
        {
          "output_type": "execute_result",
          "data": {
            "text/plain": [
              "{'name': 'John', 'age': 30, 'city': 'New York'}"
            ]
          },
          "metadata": {},
          "execution_count": 21
        }
      ]
    },
    {
      "cell_type": "code",
      "source": [
        "import json\n",
        "\n",
        "# JSON verilerini içeren bir dosya açın ve verileri okuyun\n",
        "with open(\"veriler.json\", \"r\") as dosya:\n",
        "    json_data = dosya.read()\n",
        "\n",
        "# JSON verilerini Python sözlüğüne dönüştürün\n",
        "data = json.loads(json_data)\n",
        "\n",
        "# Sözlük verilerini kullanın\n",
        "print(\"Name:\", data[\"name\"])\n",
        "print(\"Age:\", data[\"age\"])\n",
        "print(\"City:\", data[\"city\"])\n"
      ],
      "metadata": {
        "colab": {
          "base_uri": "https://localhost:8080/"
        },
        "id": "SoBp7-ih5euB",
        "outputId": "14596846-179c-406b-e2b6-99da9bdf1bcf"
      },
      "execution_count": 22,
      "outputs": [
        {
          "output_type": "stream",
          "name": "stdout",
          "text": [
            "Name: John\n",
            "Age: 30\n",
            "City: New York\n"
          ]
        }
      ]
    }
  ]
}