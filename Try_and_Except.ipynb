{
  "nbformat": 4,
  "nbformat_minor": 0,
  "metadata": {
    "colab": {
      "provenance": [],
      "mount_file_id": "1edpeMCdVs2zkT_itK3I2mq-K5nbUFXW7",
      "authorship_tag": "ABX9TyMWvvC+d/RrrG7dH6M7GMmv",
      "include_colab_link": true
    },
    "kernelspec": {
      "name": "python3",
      "display_name": "Python 3"
    },
    "language_info": {
      "name": "python"
    }
  },
  "cells": [
    {
      "cell_type": "markdown",
      "metadata": {
        "id": "view-in-github",
        "colab_type": "text"
      },
      "source": [
        "<a href=\"https://colab.research.google.com/github/kzeynep/python_giris/blob/main/Try_and_Except.ipynb\" target=\"_parent\"><img src=\"https://colab.research.google.com/assets/colab-badge.svg\" alt=\"Open In Colab\"/></a>"
      ]
    },
    {
      "cell_type": "code",
      "source": [
        "#bütün program dillerinde kullanırız. Hata yakalama ve hataları çözmede yardımcı olacak.Mantıksal programlama,Değişken tipleriyle alakalı gibi hatalar için çözeceğimiz program \n",
        "#hata nasıl yakalanır.\n",
        "x = int(input(\"Lütfen bir sayı giriniz : \"))\n",
        "print(\"Girdiğiniz sayı : \",x)"
      ],
      "metadata": {
        "colab": {
          "base_uri": "https://localhost:8080/"
        },
        "id": "wwn2ZW9Q16Yz",
        "outputId": "b88bf680-cc53-43db-d402-32346bf73082"
      },
      "execution_count": 1,
      "outputs": [
        {
          "output_type": "stream",
          "name": "stdout",
          "text": [
            "Lütfen bir sayı giriniz : 5\n",
            "Girdiğiniz sayı :  5\n"
          ]
        }
      ]
    },
    {
      "cell_type": "code",
      "source": [
        "# biz burada intenger bir sayı girdik float bir sayı girerse kullanıcı hata alacak \n",
        "x = int(input(\"Lütfen bir sayı giriniz : \"))\n",
        "print(\"Girdiğiniz sayı : \",x)"
      ],
      "metadata": {
        "colab": {
          "base_uri": "https://localhost:8080/",
          "height": 217
        },
        "id": "YBvNGybF2vKB",
        "outputId": "0764a602-edc4-4da2-f203-cdda9f04637b"
      },
      "execution_count": 2,
      "outputs": [
        {
          "name": "stdout",
          "output_type": "stream",
          "text": [
            "Lütfen bir sayı giriniz : 4.5\n"
          ]
        },
        {
          "output_type": "error",
          "ename": "ValueError",
          "evalue": "ignored",
          "traceback": [
            "\u001b[0;31m---------------------------------------------------------------------------\u001b[0m",
            "\u001b[0;31mValueError\u001b[0m                                Traceback (most recent call last)",
            "\u001b[0;32m<ipython-input-2-b2005791adbf>\u001b[0m in \u001b[0;36m<cell line: 2>\u001b[0;34m()\u001b[0m\n\u001b[1;32m      1\u001b[0m \u001b[0;31m# biz burada intenger bir sayı girdik float bir sayı girerse kullanıcı hata alacak\u001b[0m\u001b[0;34m\u001b[0m\u001b[0;34m\u001b[0m\u001b[0m\n\u001b[0;32m----> 2\u001b[0;31m \u001b[0mx\u001b[0m \u001b[0;34m=\u001b[0m \u001b[0mint\u001b[0m\u001b[0;34m(\u001b[0m\u001b[0minput\u001b[0m\u001b[0;34m(\u001b[0m\u001b[0;34m\"Lütfen bir sayı giriniz : \"\u001b[0m\u001b[0;34m)\u001b[0m\u001b[0;34m)\u001b[0m\u001b[0;34m\u001b[0m\u001b[0;34m\u001b[0m\u001b[0m\n\u001b[0m\u001b[1;32m      3\u001b[0m \u001b[0mprint\u001b[0m\u001b[0;34m(\u001b[0m\u001b[0;34m\"Girdiğiniz sayı : \"\u001b[0m\u001b[0;34m,\u001b[0m\u001b[0mx\u001b[0m\u001b[0;34m)\u001b[0m\u001b[0;34m\u001b[0m\u001b[0;34m\u001b[0m\u001b[0m\n",
            "\u001b[0;31mValueError\u001b[0m: invalid literal for int() with base 10: '4.5'"
          ]
        }
      ]
    },
    {
      "cell_type": "code",
      "source": [
        "#sorunu çözmek için : try and exception :\n",
        "try : \n",
        "  x = int(input(\"Lütfen bir sayı giriniz ... : \"))\n",
        "  if x>0:\n",
        "    print(\"Girdiğiniz sayı pozitif.\")\n",
        "  else :\n",
        "    print(\"Girdiğiniz sayı neagtif.\")\n",
        "\n",
        "\n",
        "\n",
        "\n",
        "except:\n",
        "  print(\"Lütfen bir tamsayı değeri giriniz ...\")"
      ],
      "metadata": {
        "colab": {
          "base_uri": "https://localhost:8080/"
        },
        "id": "qpLyyt-t293X",
        "outputId": "e65f86d2-7278-43fb-e77c-51c75b9c1e0f"
      },
      "execution_count": 4,
      "outputs": [
        {
          "output_type": "stream",
          "name": "stdout",
          "text": [
            "Lütfen bir sayı giriniz ... : 5.5\n",
            "Lütfen bir tamsayı değeri giriniz ...\n"
          ]
        }
      ]
    },
    {
      "cell_type": "code",
      "source": [
        "try:\n",
        "  \n",
        "    x = int(input(\"Bir sayı girin: \"))\n",
        "    y = 10 / x\n",
        "    print(y)\n",
        "except ZeroDivisionError:\n",
        "    print(\"Hata: Sıfıra bölme hatası!\")\n",
        "except ValueError:\n",
        "    print(\"Hata: Geçersiz sayı girişi!\")\n",
        "except Exception as e:\n",
        "    print(\"Bir hata oluştu:\", e)\n",
        "finally:\n",
        "    print(\"Program sonlandı.\")\n"
      ],
      "metadata": {
        "colab": {
          "base_uri": "https://localhost:8080/"
        },
        "id": "PRjOBuYX3mJ7",
        "outputId": "5f64c0cb-37e5-4ed0-f5a9-0015eaf313a3"
      },
      "execution_count": 6,
      "outputs": [
        {
          "output_type": "stream",
          "name": "stdout",
          "text": [
            "Bir sayı girin: 2\n",
            "5.0\n",
            "Program sonlandı.\n"
          ]
        }
      ]
    },
    {
      "cell_type": "code",
      "source": [
        "try:\n",
        "    x = 5\n",
        "    y = z + x  # burada hata verecek, çünkü z tanımlı değil\n",
        "except NameError:\n",
        "    print(\"Hata: Tanımlanmamış değişken kullanımı!\")\n",
        "except Exception as e:\n",
        "    print(\"Bir hata oluştu:\", e)\n",
        "finally:\n",
        "    print(\"Program sonlandı.\")\n"
      ],
      "metadata": {
        "colab": {
          "base_uri": "https://localhost:8080/"
        },
        "id": "ioiPaKUM4_ba",
        "outputId": "7d323d71-1568-48b9-ea49-0ced0183b758"
      },
      "execution_count": 7,
      "outputs": [
        {
          "output_type": "stream",
          "name": "stdout",
          "text": [
            "Hata: Tanımlanmamış değişken kullanımı!\n",
            "Program sonlandı.\n"
          ]
        }
      ]
    }
  ]
}