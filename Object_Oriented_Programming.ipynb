{
  "nbformat": 4,
  "nbformat_minor": 0,
  "metadata": {
    "colab": {
      "provenance": [],
      "authorship_tag": "ABX9TyPSsqGYLfaV1Yc7j/Om6DRw",
      "include_colab_link": true
    },
    "kernelspec": {
      "name": "python3",
      "display_name": "Python 3"
    },
    "language_info": {
      "name": "python"
    }
  },
  "cells": [
    {
      "cell_type": "markdown",
      "metadata": {
        "id": "view-in-github",
        "colab_type": "text"
      },
      "source": [
        "<a href=\"https://colab.research.google.com/github/kzeynep/python_giris/blob/main/Object_Oriented_Programming.ipynb\" target=\"_parent\"><img src=\"https://colab.research.google.com/assets/colab-badge.svg\" alt=\"Open In Colab\"/></a>"
      ]
    },
    {
      "cell_type": "code",
      "execution_count": null,
      "metadata": {
        "id": "g86xIlLmhA6W"
      },
      "outputs": [],
      "source": [
        "#manuel el ile yazma class oluşturma \n",
        "class Elemanlar ():\n",
        "  pass\n",
        "\n",
        "\n",
        "e1=Elemanlar()\n",
        "e2=Elemanlar()\n",
        "e3=Elemanlar()\n",
        "\n",
        "e1.isim = \"Zeynep\"\n",
        "e1.yas = 24\n",
        "e1.maas = 2500\n",
        "\n",
        "e2.isim=\"Gökçe\"\n",
        "e2.yas=20\n",
        "e2.maas=2400\n",
        "\n",
        "e3.isim=\"Ali\"\n",
        "e3.yas=37\n",
        "e3.maas=15800\n",
        "\n"
      ]
    },
    {
      "cell_type": "code",
      "source": [
        "e1.isim"
      ],
      "metadata": {
        "colab": {
          "base_uri": "https://localhost:8080/",
          "height": 36
        },
        "id": "pGC1LSvt_XwX",
        "outputId": "a390bc7e-59b4-44ee-bbda-88ffa65e726a"
      },
      "execution_count": null,
      "outputs": [
        {
          "output_type": "execute_result",
          "data": {
            "text/plain": [
              "'Zeynep'"
            ],
            "application/vnd.google.colaboratory.intrinsic+json": {
              "type": "string"
            }
          },
          "metadata": {},
          "execution_count": 2
        }
      ]
    },
    {
      "cell_type": "code",
      "source": [
        "#bu da diğer kolay yöntem self (referans kelimesi  elemanımızın özelliklerini sağlıyor.)\n",
        "class Calisanlar():\n",
        "  def __init__(self,isim,yas,maas):\n",
        "    self.isim = isim\n",
        "    self.yas = yas\n",
        "    self.maas = maas\n",
        "\n",
        "  \n",
        "\n",
        "e1 = Calisanlar(\"Zeynep\",24,2500) \n",
        "e2 = Calisanlar(\"Gökçe\",20,2400)\n",
        "e3 = Calisanlar(\"Ali\",37,15800)\n",
        "\n"
      ],
      "metadata": {
        "id": "-s2R2htz_Zyi"
      },
      "execution_count": null,
      "outputs": []
    },
    {
      "cell_type": "code",
      "source": [
        "e1.maas"
      ],
      "metadata": {
        "colab": {
          "base_uri": "https://localhost:8080/"
        },
        "id": "wOM07X6-BLc5",
        "outputId": "f51081e2-2298-4f70-e2c7-4959dd0e531c"
      },
      "execution_count": null,
      "outputs": [
        {
          "output_type": "execute_result",
          "data": {
            "text/plain": [
              "2500"
            ]
          },
          "metadata": {},
          "execution_count": 12
        }
      ]
    },
    {
      "cell_type": "code",
      "source": [
        "class Araba:\n",
        "    def __init__(self, marka, model, renk, hiz=0):\n",
        "        self.marka = marka\n",
        "        self.model = model\n",
        "        self.renk = renk\n",
        "        self.hiz = hiz\n",
        "    \n",
        "    def hizi_goster(self):\n",
        "        print(f\"{self.marka} {self.model}'nin hızı {self.hiz} km/saat.\")\n",
        "    \n",
        "    def hizi_artir(self, miktar):\n",
        "        self.hiz += miktar\n",
        "        print(f\"{self.marka} {self.model}'nin hızı {self.hiz} km/saat.\")\n",
        "    \n",
        "    def hizi_azalt(self, miktar):\n",
        "        self.hiz -= miktar\n",
        "        print(f\"{self.marka} {self.model}'nin hızı {self.hiz} km/saat.\")\n",
        "\n",
        "# Araba nesnesi oluşturma ve özelliklerine erişme\n",
        "araba1 = Araba(\"Ford\", \"Mustang\", \"Kırmızı\")\n",
        "print(araba1.marka)    # \"Ford\"\n",
        "print(araba1.model)    # \"Mustang\"\n",
        "print(araba1.renk)     # \"Kırmızı\"\n",
        "print(araba1.hiz)      # 0\n",
        "\n",
        "# Araba nesnesinin metodlarını kullanma\n",
        "araba1.hizi_artir(50)   # \"Ford Mustang'in hızı 50 km/saat.\"\n",
        "araba1.hizi_goster()    # \"Ford Mustang'in hızı 50 km/saat.\"\n",
        "araba1.hizi_azalt(20)   # \"Ford Mustang'in hızı 30 km/saat.\"\n",
        "araba1.hizi_goster()    # \"Ford Mustang'in hızı 30 km/saat.\"\n"
      ],
      "metadata": {
        "colab": {
          "base_uri": "https://localhost:8080/"
        },
        "id": "3Tyv4CjcBjXG",
        "outputId": "a54aa53b-8ac5-4c77-9698-eade9b48e2e6"
      },
      "execution_count": null,
      "outputs": [
        {
          "output_type": "stream",
          "name": "stdout",
          "text": [
            "Ford\n",
            "Mustang\n",
            "Kırmızı\n",
            "0\n",
            "Ford Mustang'nin hızı 50 km/saat.\n",
            "Ford Mustang'nin hızı 50 km/saat.\n",
            "Ford Mustang'nin hızı 30 km/saat.\n",
            "Ford Mustang'nin hızı 30 km/saat.\n"
          ]
        }
      ]
    },
    {
      "cell_type": "code",
      "source": [
        "class Calisanlar():\n",
        "  def __init__(self, isim, yas, maas):\n",
        "    self.isim = isim\n",
        "    self.yas = yas\n",
        "    self.maas = maas\n",
        "\n",
        "  def display(self):\n",
        "    print(\"Calisanlar adı: {}, Calisanlar yasi: {}, Calisanlar maas: {}\".format(self.isim, self.yas, self.maas))\n",
        "\n",
        "e1 = Calisanlar(\"Zeynep\", 24, 2500) \n",
        "e2 = Calisanlar(\"Gökçe\", 20, 2400)\n",
        "e3 = Calisanlar(\"Ali\", 37, 15800)\n",
        "\n",
        "e1.display()\n"
      ],
      "metadata": {
        "colab": {
          "base_uri": "https://localhost:8080/"
        },
        "id": "uYovDRAPFxN9",
        "outputId": "4cb355cb-c7a8-421c-b7c3-2aa9ff8d98ad"
      },
      "execution_count": null,
      "outputs": [
        {
          "output_type": "stream",
          "name": "stdout",
          "text": [
            "Calisanlar adı: Zeynep, Calisanlar yasi: 24, Calisanlar maas: 2500\n"
          ]
        }
      ]
    },
    {
      "cell_type": "code",
      "source": [
        "class Kullanici:\n",
        "    def __init__(self):\n",
        "        self.isim = input(\"Lütfen adınızı girin: \")\n",
        "        self.yas = int(input(\"Lütfen yaşınızı girin: \"))\n",
        "\n",
        "    def bilgileri_goster(self):\n",
        "        print(\"Ad: {}, Yaş: {}\".format(self.isim, self.yas))\n",
        "\n",
        "kullanici1 = Kullanici()\n",
        "kullanici1.bilgileri_goster()\n"
      ],
      "metadata": {
        "colab": {
          "base_uri": "https://localhost:8080/"
        },
        "id": "FLmVqPnhGWVU",
        "outputId": "ebe02f3f-e1d4-46e9-ac07-8225dcb6c699"
      },
      "execution_count": null,
      "outputs": [
        {
          "output_type": "stream",
          "name": "stdout",
          "text": [
            "Lütfen adınızı girin: Ali\n",
            "Lütfen yaşınızı girin: 25\n",
            "Ad: Ali, Yaş: 25\n"
          ]
        }
      ]
    },
    {
      "cell_type": "code",
      "source": [
        "#Kalıtım, bir sınıfın özelliklerinin, başka bir sınıf tarafından devralınmasını sağlar. Yani, bir sınıfın var olan özelliklerinin başka bir sınıfta kullanılması ve gerektiğinde bu özelliklerin değiştirilerek veya genişletilerek yeni özelliklerin eklenmesi mümkün olur.\n",
        "#Bir sınıfın diğer sınıflar tarafından kalıtım alabilmesi için, kalıtım alacak sınıfın, kalıtım veren sınıfın özelliklerini miras alabilecek durumda olması gerekir. Kalıtım veren sınıf, \"üst sınıf\" veya \"ebeveyn sınıf\" olarak adlandırılırken, kalıtım alan sınıf, \"alt sınıf\" veya \"çocuk sınıf\" olarak adlandırılır.\n",
        "class Elemanlar():\n",
        "  zam = 0.2\n",
        "  def __init__(self, isim, soyisim, adres, maas):\n",
        "    self.isim = isim\n",
        "    self.soyisim = soyisim\n",
        "    self.adres = adres\n",
        "    self.maas = maas\n",
        "\n",
        "  def zam_yap(self):\n",
        "    self.maas = self.maas + self.maas * Elemanlar.zam\n",
        "\n",
        "  def adres_degistir(self, yeni_adres):\n",
        "    self.adres = yeni_adres\n",
        "\n",
        "\n",
        "class Menajerler(Elemanlar):\n",
        "  zam = 0.4\n",
        "  def __init__(self, isim, soyisim, adres, maas, deneyim):\n",
        "    super().__init__(isim, soyisim, adres, maas)\n",
        "    self.deneyim = deneyim\n",
        "\n",
        "  def deneyim_ekle(self, sene):\n",
        "    self.deneyim += sene\n",
        "\n",
        "  def fullName(self):\n",
        "    return self.isim + ' ' + self.soyisim\n",
        "\n",
        "\n",
        "e1 = Elemanlar(\"Hakan\", \"Kaya\", \"Eskişehir\", 5000)\n",
        "e2 = Elemanlar(\"Görkem\", \"Denizler\", \"Ankara\", 4000)\n",
        "m1 = Menajerler(\"Murat\", \"Atis\", \"İstanbul\", 12000, 5)\n"
      ],
      "metadata": {
        "id": "0PZf81iCVi7C"
      },
      "execution_count": 5,
      "outputs": []
    },
    {
      "cell_type": "code",
      "source": [
        "print(help(Menajerler))"
      ],
      "metadata": {
        "id": "fifrxQOWVjB8",
        "colab": {
          "base_uri": "https://localhost:8080/"
        },
        "outputId": "cd67ed6e-23ef-47ed-cdac-d6bb49eda13b"
      },
      "execution_count": 6,
      "outputs": [
        {
          "output_type": "stream",
          "name": "stdout",
          "text": [
            "Help on class Menajerler in module __main__:\n",
            "\n",
            "class Menajerler(Elemanlar)\n",
            " |  Menajerler(isim, soyisim, adres, maas, deneyim)\n",
            " |  \n",
            " |  Method resolution order:\n",
            " |      Menajerler\n",
            " |      Elemanlar\n",
            " |      builtins.object\n",
            " |  \n",
            " |  Methods defined here:\n",
            " |  \n",
            " |  __init__(self, isim, soyisim, adres, maas, deneyim)\n",
            " |      Initialize self.  See help(type(self)) for accurate signature.\n",
            " |  \n",
            " |  deneyim_ekle(self, sene)\n",
            " |  \n",
            " |  fullName(self)\n",
            " |  \n",
            " |  ----------------------------------------------------------------------\n",
            " |  Data and other attributes defined here:\n",
            " |  \n",
            " |  zam = 0.4\n",
            " |  \n",
            " |  ----------------------------------------------------------------------\n",
            " |  Methods inherited from Elemanlar:\n",
            " |  \n",
            " |  adres_degistir(self, yeni_adres)\n",
            " |  \n",
            " |  zam_yap(self)\n",
            " |  \n",
            " |  ----------------------------------------------------------------------\n",
            " |  Data descriptors inherited from Elemanlar:\n",
            " |  \n",
            " |  __dict__\n",
            " |      dictionary for instance variables (if defined)\n",
            " |  \n",
            " |  __weakref__\n",
            " |      list of weak references to the object (if defined)\n",
            "\n",
            "None\n"
          ]
        }
      ]
    },
    {
      "cell_type": "code",
      "source": [
        "e1.maas"
      ],
      "metadata": {
        "id": "CxYuWqVBVjFd",
        "colab": {
          "base_uri": "https://localhost:8080/"
        },
        "outputId": "60912d74-36b0-4c86-9fea-4ba40ecef109"
      },
      "execution_count": 7,
      "outputs": [
        {
          "output_type": "execute_result",
          "data": {
            "text/plain": [
              "5000"
            ]
          },
          "metadata": {},
          "execution_count": 7
        }
      ]
    },
    {
      "cell_type": "code",
      "source": [
        "e1.zam_yap()"
      ],
      "metadata": {
        "id": "exauXEmMHFae"
      },
      "execution_count": 8,
      "outputs": []
    },
    {
      "cell_type": "code",
      "source": [
        "e1.maas"
      ],
      "metadata": {
        "colab": {
          "base_uri": "https://localhost:8080/"
        },
        "id": "jfWPj5n9HL7K",
        "outputId": "20dc6077-62dd-433d-aaa5-825bd76310f6"
      },
      "execution_count": 9,
      "outputs": [
        {
          "output_type": "execute_result",
          "data": {
            "text/plain": [
              "6000.0"
            ]
          },
          "metadata": {},
          "execution_count": 9
        }
      ]
    },
    {
      "cell_type": "code",
      "source": [],
      "metadata": {
        "id": "RAJLe6YKHODj"
      },
      "execution_count": null,
      "outputs": []
    }
  ]
}